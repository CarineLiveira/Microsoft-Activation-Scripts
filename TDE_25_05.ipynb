{
  "nbformat": 4,
  "nbformat_minor": 0,
  "metadata": {
    "colab": {
      "provenance": [],
      "toc_visible": true,
      "authorship_tag": "ABX9TyPcX47ghexB97KSEf+3jJqA",
      "include_colab_link": true
    },
    "kernelspec": {
      "name": "python3",
      "display_name": "Python 3"
    },
    "language_info": {
      "name": "python"
    }
  },
  "cells": [
    {
      "cell_type": "markdown",
      "metadata": {
        "id": "view-in-github",
        "colab_type": "text"
      },
      "source": [
        "<a href=\"https://colab.research.google.com/github/CarineLiveira/Microsoft-Activation-Scripts/blob/master/TDE_25_05.ipynb\" target=\"_parent\"><img src=\"https://colab.research.google.com/assets/colab-badge.svg\" alt=\"Open In Colab\"/></a>"
      ]
    },
    {
      "cell_type": "code",
      "execution_count": null,
      "metadata": {
        "id": "CmvdGdQoi7UT"
      },
      "outputs": [],
      "source": [
        "import pandas as pd\n",
        "df = pd.read_csv('natacao.csv')\n",
        "\n"
      ]
    },
    {
      "cell_type": "code",
      "source": [
        "print(type(df))\n"
      ],
      "metadata": {
        "id": "Imi01doBjCgA"
      },
      "execution_count": null,
      "outputs": []
    },
    {
      "cell_type": "code",
      "source": [
        "[df['Atleta'].describe()]"
      ],
      "metadata": {
        "id": "zstK76qbjEB2"
      },
      "execution_count": null,
      "outputs": []
    },
    {
      "cell_type": "code",
      "source": [
        "Mulheres = df[df['Genero']== 'Feminino']\n",
        "Mulheres"
      ],
      "metadata": {
        "id": "Dmo9NO0PjcMe"
      },
      "execution_count": null,
      "outputs": []
    },
    {
      "cell_type": "code",
      "source": [
        "Mulheres ['Atleta'].describe()"
      ],
      "metadata": {
        "id": "ZWSLEV16jevw"
      },
      "execution_count": null,
      "outputs": []
    },
    {
      "cell_type": "code",
      "source": [
        "Medalhas = df[df['Posicao']== 3]\n",
        "Medalhas"
      ],
      "metadata": {
        "id": "6k4revDgji1B"
      },
      "execution_count": null,
      "outputs": []
    },
    {
      "cell_type": "code",
      "source": [
        "Medalhas['Equipe'].describe()"
      ],
      "metadata": {
        "id": "NU-Tpw6gjlRC"
      },
      "execution_count": null,
      "outputs": []
    },
    {
      "cell_type": "code",
      "source": [
        "\n",
        "1-Identifique e responda, qual a variável estatística representada em cada coluna do dataframe?\n",
        "\n",
        "Variaveis Qualitativas\n",
        "Nominal:Sede,Estilo,Revesamento,Genero,Equipe,Atleta,\n",
        "\n",
        "Ordinais:\n",
        "\n",
        "Variavies Quantitativas\n",
        "Discretas:Distancia,Tempo,Posicao\n",
        "\n",
        "Continuas:Ano\n"
      ],
      "metadata": {
        "id": "UtURplbljoaZ"
      },
      "execution_count": null,
      "outputs": []
    },
    {
      "cell_type": "code",
      "source": [
        "2-Identifique e responda, qual a medida de resumo mais adequada para cada variável numérica? justifique cada uma delas.\n",
        "\n",
        "\n",
        "Ano:Moda:utilizando a moda podemos saber qual mais se repete\n",
        "\n",
        "Distancia:Mediana: è o q melhor encaixa na situação\n",
        "\n",
        "Tempo:Media: pois assim conseguimos tirar a base media de tmepo do ano em questao\n",
        "\n",
        "Posição:Media: pois assim conseguimos tirar a base media da posicao em questao\n"
      ],
      "metadata": {
        "id": "IRP2tRDWj7YP"
      },
      "execution_count": null,
      "outputs": []
    }
  ]
}